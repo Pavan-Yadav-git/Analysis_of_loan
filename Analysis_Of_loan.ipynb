{
 "cells": [
  {
   "cell_type": "code",
   "execution_count": 2,
   "id": "de1414c5",
   "metadata": {},
   "outputs": [],
   "source": [
    "import pandas as pd\n",
    "import numpy as np\n",
    "import matplotlib.pyplot as plt\n",
    "import seaborn as sns\n",
    "from sklearn.preprocessing import OneHotEncoder,LabelEncoder,OrdinalEncoder\n",
    "from sklearn.model_selection import train_test_split\n",
    "from sklearn.linear_model import LinearRegression\n",
    "from sklearn.metrics import mean_squared_error, r2_score\n",
    "import warnings\n",
    "warnings.filterwarnings(\"ignore\")"
   ]
  },
  {
   "cell_type": "code",
   "execution_count": 46,
   "id": "878bbdfc",
   "metadata": {},
   "outputs": [
    {
     "data": {
      "text/html": [
       "<div>\n",
       "<style scoped>\n",
       "    .dataframe tbody tr th:only-of-type {\n",
       "        vertical-align: middle;\n",
       "    }\n",
       "\n",
       "    .dataframe tbody tr th {\n",
       "        vertical-align: top;\n",
       "    }\n",
       "\n",
       "    .dataframe thead th {\n",
       "        text-align: right;\n",
       "    }\n",
       "</style>\n",
       "<table border=\"1\" class=\"dataframe\">\n",
       "  <thead>\n",
       "    <tr style=\"text-align: right;\">\n",
       "      <th></th>\n",
       "      <th>Principal Amount</th>\n",
       "      <th>Interest Amount</th>\n",
       "      <th>Statement Date</th>\n",
       "    </tr>\n",
       "  </thead>\n",
       "  <tbody>\n",
       "    <tr>\n",
       "      <th>0</th>\n",
       "      <td>4096.79</td>\n",
       "      <td>3340.00</td>\n",
       "      <td>13 Nov 2020</td>\n",
       "    </tr>\n",
       "    <tr>\n",
       "      <th>1</th>\n",
       "      <td>4165.21</td>\n",
       "      <td>3271.58</td>\n",
       "      <td>13 Dec 2020</td>\n",
       "    </tr>\n",
       "    <tr>\n",
       "      <th>2</th>\n",
       "      <td>4234.77</td>\n",
       "      <td>3202.02</td>\n",
       "      <td>13 Jan 2021</td>\n",
       "    </tr>\n",
       "    <tr>\n",
       "      <th>3</th>\n",
       "      <td>4305.49</td>\n",
       "      <td>3131.30</td>\n",
       "      <td>13 Feb 2021</td>\n",
       "    </tr>\n",
       "    <tr>\n",
       "      <th>4</th>\n",
       "      <td>4377.39</td>\n",
       "      <td>3059.40</td>\n",
       "      <td>13 Mar 2021</td>\n",
       "    </tr>\n",
       "  </tbody>\n",
       "</table>\n",
       "</div>"
      ],
      "text/plain": [
       "   Principal Amount  Interest Amount Statement Date\n",
       "0           4096.79          3340.00    13 Nov 2020\n",
       "1           4165.21          3271.58    13 Dec 2020\n",
       "2           4234.77          3202.02    13 Jan 2021\n",
       "3           4305.49          3131.30    13 Feb 2021\n",
       "4           4377.39          3059.40    13 Mar 2021"
      ]
     },
     "execution_count": 46,
     "metadata": {},
     "output_type": "execute_result"
    }
   ],
   "source": [
    "data=pd.read_excel(r\"C:\\Users\\LENOVO\\Downloads\\48495653_1694749068744.xls\")\n",
    "data.head()"
   ]
  },
  {
   "cell_type": "code",
   "execution_count": 32,
   "id": "4819567d",
   "metadata": {},
   "outputs": [
    {
     "data": {
      "text/plain": [
       "Index(['Principal Amount', 'Interest Amount', 'Statement Date'], dtype='object')"
      ]
     },
     "execution_count": 32,
     "metadata": {},
     "output_type": "execute_result"
    }
   ],
   "source": [
    "data.columns"
   ]
  },
  {
   "cell_type": "code",
   "execution_count": 47,
   "id": "ded4aa37",
   "metadata": {},
   "outputs": [],
   "source": [
    "data[\"Total\"]=data['Principal Amount']+data['Interest Amount']"
   ]
  },
  {
   "cell_type": "code",
   "execution_count": 48,
   "id": "05bf178f",
   "metadata": {},
   "outputs": [],
   "source": [
    "df=pd.DataFrame(data, columns=data.columns)"
   ]
  },
  {
   "cell_type": "code",
   "execution_count": 49,
   "id": "9d51eba6",
   "metadata": {},
   "outputs": [
    {
     "data": {
      "text/html": [
       "<div>\n",
       "<style scoped>\n",
       "    .dataframe tbody tr th:only-of-type {\n",
       "        vertical-align: middle;\n",
       "    }\n",
       "\n",
       "    .dataframe tbody tr th {\n",
       "        vertical-align: top;\n",
       "    }\n",
       "\n",
       "    .dataframe thead th {\n",
       "        text-align: right;\n",
       "    }\n",
       "</style>\n",
       "<table border=\"1\" class=\"dataframe\">\n",
       "  <thead>\n",
       "    <tr style=\"text-align: right;\">\n",
       "      <th></th>\n",
       "      <th>Principal Amount</th>\n",
       "      <th>Interest Amount</th>\n",
       "      <th>Statement Date</th>\n",
       "      <th>Total</th>\n",
       "    </tr>\n",
       "  </thead>\n",
       "  <tbody>\n",
       "    <tr>\n",
       "      <th>0</th>\n",
       "      <td>4096.79</td>\n",
       "      <td>3340.00</td>\n",
       "      <td>13 Nov 2020</td>\n",
       "      <td>7436.79</td>\n",
       "    </tr>\n",
       "    <tr>\n",
       "      <th>1</th>\n",
       "      <td>4165.21</td>\n",
       "      <td>3271.58</td>\n",
       "      <td>13 Dec 2020</td>\n",
       "      <td>7436.79</td>\n",
       "    </tr>\n",
       "    <tr>\n",
       "      <th>2</th>\n",
       "      <td>4234.77</td>\n",
       "      <td>3202.02</td>\n",
       "      <td>13 Jan 2021</td>\n",
       "      <td>7436.79</td>\n",
       "    </tr>\n",
       "    <tr>\n",
       "      <th>3</th>\n",
       "      <td>4305.49</td>\n",
       "      <td>3131.30</td>\n",
       "      <td>13 Feb 2021</td>\n",
       "      <td>7436.79</td>\n",
       "    </tr>\n",
       "    <tr>\n",
       "      <th>4</th>\n",
       "      <td>4377.39</td>\n",
       "      <td>3059.40</td>\n",
       "      <td>13 Mar 2021</td>\n",
       "      <td>7436.79</td>\n",
       "    </tr>\n",
       "  </tbody>\n",
       "</table>\n",
       "</div>"
      ],
      "text/plain": [
       "   Principal Amount  Interest Amount Statement Date    Total\n",
       "0           4096.79          3340.00    13 Nov 2020  7436.79\n",
       "1           4165.21          3271.58    13 Dec 2020  7436.79\n",
       "2           4234.77          3202.02    13 Jan 2021  7436.79\n",
       "3           4305.49          3131.30    13 Feb 2021  7436.79\n",
       "4           4377.39          3059.40    13 Mar 2021  7436.79"
      ]
     },
     "execution_count": 49,
     "metadata": {},
     "output_type": "execute_result"
    }
   ],
   "source": [
    "df.head()"
   ]
  },
  {
   "cell_type": "code",
   "execution_count": 50,
   "id": "449b4110",
   "metadata": {},
   "outputs": [],
   "source": [
    "df=df.iloc[:,[0,1,3,2]]"
   ]
  },
  {
   "cell_type": "code",
   "execution_count": 51,
   "id": "db8b2aab",
   "metadata": {
    "scrolled": true
   },
   "outputs": [
    {
     "data": {
      "text/html": [
       "<div>\n",
       "<style scoped>\n",
       "    .dataframe tbody tr th:only-of-type {\n",
       "        vertical-align: middle;\n",
       "    }\n",
       "\n",
       "    .dataframe tbody tr th {\n",
       "        vertical-align: top;\n",
       "    }\n",
       "\n",
       "    .dataframe thead th {\n",
       "        text-align: right;\n",
       "    }\n",
       "</style>\n",
       "<table border=\"1\" class=\"dataframe\">\n",
       "  <thead>\n",
       "    <tr style=\"text-align: right;\">\n",
       "      <th></th>\n",
       "      <th>Principal Amount</th>\n",
       "      <th>Interest Amount</th>\n",
       "      <th>Total</th>\n",
       "      <th>Statement Date</th>\n",
       "    </tr>\n",
       "  </thead>\n",
       "  <tbody>\n",
       "    <tr>\n",
       "      <th>0</th>\n",
       "      <td>4096.79</td>\n",
       "      <td>3340.00</td>\n",
       "      <td>7436.79</td>\n",
       "      <td>13 Nov 2020</td>\n",
       "    </tr>\n",
       "    <tr>\n",
       "      <th>1</th>\n",
       "      <td>4165.21</td>\n",
       "      <td>3271.58</td>\n",
       "      <td>7436.79</td>\n",
       "      <td>13 Dec 2020</td>\n",
       "    </tr>\n",
       "    <tr>\n",
       "      <th>2</th>\n",
       "      <td>4234.77</td>\n",
       "      <td>3202.02</td>\n",
       "      <td>7436.79</td>\n",
       "      <td>13 Jan 2021</td>\n",
       "    </tr>\n",
       "    <tr>\n",
       "      <th>3</th>\n",
       "      <td>4305.49</td>\n",
       "      <td>3131.30</td>\n",
       "      <td>7436.79</td>\n",
       "      <td>13 Feb 2021</td>\n",
       "    </tr>\n",
       "    <tr>\n",
       "      <th>4</th>\n",
       "      <td>4377.39</td>\n",
       "      <td>3059.40</td>\n",
       "      <td>7436.79</td>\n",
       "      <td>13 Mar 2021</td>\n",
       "    </tr>\n",
       "    <tr>\n",
       "      <th>5</th>\n",
       "      <td>4450.49</td>\n",
       "      <td>2986.30</td>\n",
       "      <td>7436.79</td>\n",
       "      <td>13 Apr 2021</td>\n",
       "    </tr>\n",
       "    <tr>\n",
       "      <th>6</th>\n",
       "      <td>4524.81</td>\n",
       "      <td>2911.98</td>\n",
       "      <td>7436.79</td>\n",
       "      <td>13 May 2021</td>\n",
       "    </tr>\n",
       "    <tr>\n",
       "      <th>7</th>\n",
       "      <td>4600.38</td>\n",
       "      <td>2836.41</td>\n",
       "      <td>7436.79</td>\n",
       "      <td>13 Jun 2021</td>\n",
       "    </tr>\n",
       "    <tr>\n",
       "      <th>8</th>\n",
       "      <td>4677.20</td>\n",
       "      <td>2759.59</td>\n",
       "      <td>7436.79</td>\n",
       "      <td>13 Jul 2021</td>\n",
       "    </tr>\n",
       "    <tr>\n",
       "      <th>9</th>\n",
       "      <td>4755.31</td>\n",
       "      <td>2681.48</td>\n",
       "      <td>7436.79</td>\n",
       "      <td>13 Aug 2021</td>\n",
       "    </tr>\n",
       "    <tr>\n",
       "      <th>10</th>\n",
       "      <td>4834.73</td>\n",
       "      <td>2602.06</td>\n",
       "      <td>7436.79</td>\n",
       "      <td>13 Sep 2021</td>\n",
       "    </tr>\n",
       "    <tr>\n",
       "      <th>11</th>\n",
       "      <td>4915.47</td>\n",
       "      <td>2521.32</td>\n",
       "      <td>7436.79</td>\n",
       "      <td>13 Oct 2021</td>\n",
       "    </tr>\n",
       "    <tr>\n",
       "      <th>12</th>\n",
       "      <td>4997.56</td>\n",
       "      <td>2439.23</td>\n",
       "      <td>7436.79</td>\n",
       "      <td>13 Nov 2021</td>\n",
       "    </tr>\n",
       "    <tr>\n",
       "      <th>13</th>\n",
       "      <td>5081.01</td>\n",
       "      <td>2355.78</td>\n",
       "      <td>7436.79</td>\n",
       "      <td>13 Dec 2021</td>\n",
       "    </tr>\n",
       "    <tr>\n",
       "      <th>14</th>\n",
       "      <td>5165.87</td>\n",
       "      <td>2270.92</td>\n",
       "      <td>7436.79</td>\n",
       "      <td>13 Jan 2022</td>\n",
       "    </tr>\n",
       "    <tr>\n",
       "      <th>15</th>\n",
       "      <td>5252.14</td>\n",
       "      <td>2184.65</td>\n",
       "      <td>7436.79</td>\n",
       "      <td>13 Feb 2022</td>\n",
       "    </tr>\n",
       "    <tr>\n",
       "      <th>16</th>\n",
       "      <td>5339.85</td>\n",
       "      <td>2096.94</td>\n",
       "      <td>7436.79</td>\n",
       "      <td>13 Mar 2022</td>\n",
       "    </tr>\n",
       "    <tr>\n",
       "      <th>17</th>\n",
       "      <td>5429.02</td>\n",
       "      <td>2007.77</td>\n",
       "      <td>7436.79</td>\n",
       "      <td>13 Apr 2022</td>\n",
       "    </tr>\n",
       "    <tr>\n",
       "      <th>18</th>\n",
       "      <td>5519.69</td>\n",
       "      <td>1917.10</td>\n",
       "      <td>7436.79</td>\n",
       "      <td>13 May 2022</td>\n",
       "    </tr>\n",
       "    <tr>\n",
       "      <th>19</th>\n",
       "      <td>5611.87</td>\n",
       "      <td>1824.92</td>\n",
       "      <td>7436.79</td>\n",
       "      <td>13 Jun 2022</td>\n",
       "    </tr>\n",
       "    <tr>\n",
       "      <th>20</th>\n",
       "      <td>5705.59</td>\n",
       "      <td>1731.20</td>\n",
       "      <td>7436.79</td>\n",
       "      <td>13 Jul 2022</td>\n",
       "    </tr>\n",
       "    <tr>\n",
       "      <th>21</th>\n",
       "      <td>5800.87</td>\n",
       "      <td>1635.92</td>\n",
       "      <td>7436.79</td>\n",
       "      <td>13 Aug 2022</td>\n",
       "    </tr>\n",
       "    <tr>\n",
       "      <th>22</th>\n",
       "      <td>5897.74</td>\n",
       "      <td>1539.05</td>\n",
       "      <td>7436.79</td>\n",
       "      <td>13 Sep 2022</td>\n",
       "    </tr>\n",
       "    <tr>\n",
       "      <th>23</th>\n",
       "      <td>5996.24</td>\n",
       "      <td>1440.55</td>\n",
       "      <td>7436.79</td>\n",
       "      <td>13 Oct 2022</td>\n",
       "    </tr>\n",
       "    <tr>\n",
       "      <th>24</th>\n",
       "      <td>6096.37</td>\n",
       "      <td>1340.42</td>\n",
       "      <td>7436.79</td>\n",
       "      <td>13 Nov 2022</td>\n",
       "    </tr>\n",
       "    <tr>\n",
       "      <th>25</th>\n",
       "      <td>6198.18</td>\n",
       "      <td>1238.61</td>\n",
       "      <td>7436.79</td>\n",
       "      <td>13 Dec 2022</td>\n",
       "    </tr>\n",
       "    <tr>\n",
       "      <th>26</th>\n",
       "      <td>6301.69</td>\n",
       "      <td>1135.10</td>\n",
       "      <td>7436.79</td>\n",
       "      <td>13 Jan 2023</td>\n",
       "    </tr>\n",
       "    <tr>\n",
       "      <th>27</th>\n",
       "      <td>6406.93</td>\n",
       "      <td>1029.86</td>\n",
       "      <td>7436.79</td>\n",
       "      <td>13 Feb 2023</td>\n",
       "    </tr>\n",
       "    <tr>\n",
       "      <th>28</th>\n",
       "      <td>6513.93</td>\n",
       "      <td>922.86</td>\n",
       "      <td>7436.79</td>\n",
       "      <td>13 Mar 2023</td>\n",
       "    </tr>\n",
       "    <tr>\n",
       "      <th>29</th>\n",
       "      <td>6622.71</td>\n",
       "      <td>814.08</td>\n",
       "      <td>7436.79</td>\n",
       "      <td>13 Apr 2023</td>\n",
       "    </tr>\n",
       "    <tr>\n",
       "      <th>30</th>\n",
       "      <td>6733.31</td>\n",
       "      <td>703.48</td>\n",
       "      <td>7436.79</td>\n",
       "      <td>13 May 2023</td>\n",
       "    </tr>\n",
       "    <tr>\n",
       "      <th>31</th>\n",
       "      <td>6845.75</td>\n",
       "      <td>591.04</td>\n",
       "      <td>7436.79</td>\n",
       "      <td>13 Jun 2023</td>\n",
       "    </tr>\n",
       "    <tr>\n",
       "      <th>32</th>\n",
       "      <td>6960.08</td>\n",
       "      <td>476.71</td>\n",
       "      <td>7436.79</td>\n",
       "      <td>13 Jul 2023</td>\n",
       "    </tr>\n",
       "    <tr>\n",
       "      <th>33</th>\n",
       "      <td>7076.31</td>\n",
       "      <td>360.48</td>\n",
       "      <td>7436.79</td>\n",
       "      <td>13 Aug 2023</td>\n",
       "    </tr>\n",
       "    <tr>\n",
       "      <th>34</th>\n",
       "      <td>7194.49</td>\n",
       "      <td>242.30</td>\n",
       "      <td>7436.79</td>\n",
       "      <td>13 Sep 2023</td>\n",
       "    </tr>\n",
       "    <tr>\n",
       "      <th>35</th>\n",
       "      <td>7314.76</td>\n",
       "      <td>122.16</td>\n",
       "      <td>7436.92</td>\n",
       "      <td>13 Oct 2023</td>\n",
       "    </tr>\n",
       "  </tbody>\n",
       "</table>\n",
       "</div>"
      ],
      "text/plain": [
       "    Principal Amount  Interest Amount    Total Statement Date\n",
       "0            4096.79          3340.00  7436.79    13 Nov 2020\n",
       "1            4165.21          3271.58  7436.79    13 Dec 2020\n",
       "2            4234.77          3202.02  7436.79    13 Jan 2021\n",
       "3            4305.49          3131.30  7436.79    13 Feb 2021\n",
       "4            4377.39          3059.40  7436.79    13 Mar 2021\n",
       "5            4450.49          2986.30  7436.79    13 Apr 2021\n",
       "6            4524.81          2911.98  7436.79    13 May 2021\n",
       "7            4600.38          2836.41  7436.79    13 Jun 2021\n",
       "8            4677.20          2759.59  7436.79    13 Jul 2021\n",
       "9            4755.31          2681.48  7436.79    13 Aug 2021\n",
       "10           4834.73          2602.06  7436.79    13 Sep 2021\n",
       "11           4915.47          2521.32  7436.79    13 Oct 2021\n",
       "12           4997.56          2439.23  7436.79    13 Nov 2021\n",
       "13           5081.01          2355.78  7436.79    13 Dec 2021\n",
       "14           5165.87          2270.92  7436.79    13 Jan 2022\n",
       "15           5252.14          2184.65  7436.79    13 Feb 2022\n",
       "16           5339.85          2096.94  7436.79    13 Mar 2022\n",
       "17           5429.02          2007.77  7436.79    13 Apr 2022\n",
       "18           5519.69          1917.10  7436.79    13 May 2022\n",
       "19           5611.87          1824.92  7436.79    13 Jun 2022\n",
       "20           5705.59          1731.20  7436.79    13 Jul 2022\n",
       "21           5800.87          1635.92  7436.79    13 Aug 2022\n",
       "22           5897.74          1539.05  7436.79    13 Sep 2022\n",
       "23           5996.24          1440.55  7436.79    13 Oct 2022\n",
       "24           6096.37          1340.42  7436.79    13 Nov 2022\n",
       "25           6198.18          1238.61  7436.79    13 Dec 2022\n",
       "26           6301.69          1135.10  7436.79    13 Jan 2023\n",
       "27           6406.93          1029.86  7436.79    13 Feb 2023\n",
       "28           6513.93           922.86  7436.79    13 Mar 2023\n",
       "29           6622.71           814.08  7436.79    13 Apr 2023\n",
       "30           6733.31           703.48  7436.79    13 May 2023\n",
       "31           6845.75           591.04  7436.79    13 Jun 2023\n",
       "32           6960.08           476.71  7436.79    13 Jul 2023\n",
       "33           7076.31           360.48  7436.79    13 Aug 2023\n",
       "34           7194.49           242.30  7436.79    13 Sep 2023\n",
       "35           7314.76           122.16  7436.92    13 Oct 2023"
      ]
     },
     "execution_count": 51,
     "metadata": {},
     "output_type": "execute_result"
    }
   ],
   "source": [
    "df"
   ]
  },
  {
   "cell_type": "code",
   "execution_count": 65,
   "id": "f25946c3",
   "metadata": {},
   "outputs": [],
   "source": [
    "df['Date'] = pd.to_datetime(df['Statement Date'])"
   ]
  },
  {
   "cell_type": "code",
   "execution_count": 72,
   "id": "4a87ea0a",
   "metadata": {},
   "outputs": [],
   "source": [
    "df.set_index('Date', inplace=True)"
   ]
  },
  {
   "cell_type": "code",
   "execution_count": 68,
   "id": "de0be4cb",
   "metadata": {},
   "outputs": [],
   "source": [
    "df.drop(\"Statement Date\", axis=1, inplace=True)"
   ]
  },
  {
   "cell_type": "code",
   "execution_count": 69,
   "id": "83590ffd",
   "metadata": {
    "scrolled": true
   },
   "outputs": [
    {
     "data": {
      "text/html": [
       "<div>\n",
       "<style scoped>\n",
       "    .dataframe tbody tr th:only-of-type {\n",
       "        vertical-align: middle;\n",
       "    }\n",
       "\n",
       "    .dataframe tbody tr th {\n",
       "        vertical-align: top;\n",
       "    }\n",
       "\n",
       "    .dataframe thead th {\n",
       "        text-align: right;\n",
       "    }\n",
       "</style>\n",
       "<table border=\"1\" class=\"dataframe\">\n",
       "  <thead>\n",
       "    <tr style=\"text-align: right;\">\n",
       "      <th></th>\n",
       "      <th>Principal Amount</th>\n",
       "      <th>Interest Amount</th>\n",
       "      <th>Total</th>\n",
       "      <th>Date</th>\n",
       "    </tr>\n",
       "  </thead>\n",
       "  <tbody>\n",
       "    <tr>\n",
       "      <th>0</th>\n",
       "      <td>4096.79</td>\n",
       "      <td>3340.00</td>\n",
       "      <td>7436.79</td>\n",
       "      <td>2020-11-13</td>\n",
       "    </tr>\n",
       "    <tr>\n",
       "      <th>1</th>\n",
       "      <td>4165.21</td>\n",
       "      <td>3271.58</td>\n",
       "      <td>7436.79</td>\n",
       "      <td>2020-12-13</td>\n",
       "    </tr>\n",
       "    <tr>\n",
       "      <th>2</th>\n",
       "      <td>4234.77</td>\n",
       "      <td>3202.02</td>\n",
       "      <td>7436.79</td>\n",
       "      <td>2021-01-13</td>\n",
       "    </tr>\n",
       "    <tr>\n",
       "      <th>3</th>\n",
       "      <td>4305.49</td>\n",
       "      <td>3131.30</td>\n",
       "      <td>7436.79</td>\n",
       "      <td>2021-02-13</td>\n",
       "    </tr>\n",
       "    <tr>\n",
       "      <th>4</th>\n",
       "      <td>4377.39</td>\n",
       "      <td>3059.40</td>\n",
       "      <td>7436.79</td>\n",
       "      <td>2021-03-13</td>\n",
       "    </tr>\n",
       "  </tbody>\n",
       "</table>\n",
       "</div>"
      ],
      "text/plain": [
       "   Principal Amount  Interest Amount    Total       Date\n",
       "0           4096.79          3340.00  7436.79 2020-11-13\n",
       "1           4165.21          3271.58  7436.79 2020-12-13\n",
       "2           4234.77          3202.02  7436.79 2021-01-13\n",
       "3           4305.49          3131.30  7436.79 2021-02-13\n",
       "4           4377.39          3059.40  7436.79 2021-03-13"
      ]
     },
     "execution_count": 69,
     "metadata": {},
     "output_type": "execute_result"
    }
   ],
   "source": [
    "df.head()"
   ]
  },
  {
   "cell_type": "code",
   "execution_count": 73,
   "id": "f40bf5e6",
   "metadata": {},
   "outputs": [],
   "source": [
    "max_interest_month = df['Interest Amount'].idxmax().strftime('%B')"
   ]
  },
  {
   "cell_type": "code",
   "execution_count": 82,
   "id": "b7c0dc26",
   "metadata": {},
   "outputs": [
    {
     "data": {
      "text/html": [
       "<div>\n",
       "<style scoped>\n",
       "    .dataframe tbody tr th:only-of-type {\n",
       "        vertical-align: middle;\n",
       "    }\n",
       "\n",
       "    .dataframe tbody tr th {\n",
       "        vertical-align: top;\n",
       "    }\n",
       "\n",
       "    .dataframe thead th {\n",
       "        text-align: right;\n",
       "    }\n",
       "</style>\n",
       "<table border=\"1\" class=\"dataframe\">\n",
       "  <thead>\n",
       "    <tr style=\"text-align: right;\">\n",
       "      <th></th>\n",
       "      <th>Principal Amount</th>\n",
       "      <th>Interest Amount</th>\n",
       "      <th>Total</th>\n",
       "    </tr>\n",
       "    <tr>\n",
       "      <th>Date</th>\n",
       "      <th></th>\n",
       "      <th></th>\n",
       "      <th></th>\n",
       "    </tr>\n",
       "  </thead>\n",
       "  <tbody>\n",
       "    <tr>\n",
       "      <th>2020-11-13</th>\n",
       "      <td>4096.79</td>\n",
       "      <td>3340.0</td>\n",
       "      <td>7436.79</td>\n",
       "    </tr>\n",
       "  </tbody>\n",
       "</table>\n",
       "</div>"
      ],
      "text/plain": [
       "            Principal Amount  Interest Amount    Total\n",
       "Date                                                  \n",
       "2020-11-13           4096.79           3340.0  7436.79"
      ]
     },
     "execution_count": 82,
     "metadata": {},
     "output_type": "execute_result"
    }
   ],
   "source": [
    "max_interest_row = df[df['Interest Amount'] == df['Interest Amount'].max()]\n",
    "max_interest_row"
   ]
  },
  {
   "cell_type": "code",
   "execution_count": null,
   "id": "0221e2e6",
   "metadata": {},
   "outputs": [],
   "source": [
    "max_interest_row"
   ]
  },
  {
   "cell_type": "code",
   "execution_count": 83,
   "id": "32ebd1aa",
   "metadata": {},
   "outputs": [
    {
     "data": {
      "text/html": [
       "<div>\n",
       "<style scoped>\n",
       "    .dataframe tbody tr th:only-of-type {\n",
       "        vertical-align: middle;\n",
       "    }\n",
       "\n",
       "    .dataframe tbody tr th {\n",
       "        vertical-align: top;\n",
       "    }\n",
       "\n",
       "    .dataframe thead th {\n",
       "        text-align: right;\n",
       "    }\n",
       "</style>\n",
       "<table border=\"1\" class=\"dataframe\">\n",
       "  <thead>\n",
       "    <tr style=\"text-align: right;\">\n",
       "      <th></th>\n",
       "      <th>Principal Amount</th>\n",
       "      <th>Interest Amount</th>\n",
       "      <th>Total</th>\n",
       "    </tr>\n",
       "    <tr>\n",
       "      <th>Date</th>\n",
       "      <th></th>\n",
       "      <th></th>\n",
       "      <th></th>\n",
       "    </tr>\n",
       "  </thead>\n",
       "  <tbody>\n",
       "    <tr>\n",
       "      <th>2020-11-13</th>\n",
       "      <td>4096.79</td>\n",
       "      <td>3340.00</td>\n",
       "      <td>7436.79</td>\n",
       "    </tr>\n",
       "    <tr>\n",
       "      <th>2020-12-13</th>\n",
       "      <td>4165.21</td>\n",
       "      <td>3271.58</td>\n",
       "      <td>7436.79</td>\n",
       "    </tr>\n",
       "    <tr>\n",
       "      <th>2021-01-13</th>\n",
       "      <td>4234.77</td>\n",
       "      <td>3202.02</td>\n",
       "      <td>7436.79</td>\n",
       "    </tr>\n",
       "    <tr>\n",
       "      <th>2021-02-13</th>\n",
       "      <td>4305.49</td>\n",
       "      <td>3131.30</td>\n",
       "      <td>7436.79</td>\n",
       "    </tr>\n",
       "    <tr>\n",
       "      <th>2021-03-13</th>\n",
       "      <td>4377.39</td>\n",
       "      <td>3059.40</td>\n",
       "      <td>7436.79</td>\n",
       "    </tr>\n",
       "  </tbody>\n",
       "</table>\n",
       "</div>"
      ],
      "text/plain": [
       "            Principal Amount  Interest Amount    Total\n",
       "Date                                                  \n",
       "2020-11-13           4096.79          3340.00  7436.79\n",
       "2020-12-13           4165.21          3271.58  7436.79\n",
       "2021-01-13           4234.77          3202.02  7436.79\n",
       "2021-02-13           4305.49          3131.30  7436.79\n",
       "2021-03-13           4377.39          3059.40  7436.79"
      ]
     },
     "execution_count": 83,
     "metadata": {},
     "output_type": "execute_result"
    }
   ],
   "source": [
    "df.head()"
   ]
  },
  {
   "cell_type": "code",
   "execution_count": 74,
   "id": "8dbd4542",
   "metadata": {},
   "outputs": [
    {
     "data": {
      "text/plain": [
       "'November'"
      ]
     },
     "execution_count": 74,
     "metadata": {},
     "output_type": "execute_result"
    }
   ],
   "source": [
    "max_interest_month"
   ]
  },
  {
   "cell_type": "code",
   "execution_count": 77,
   "id": "43c5824c",
   "metadata": {},
   "outputs": [
    {
     "data": {
      "text/plain": [
       "'October'"
      ]
     },
     "execution_count": 77,
     "metadata": {},
     "output_type": "execute_result"
    }
   ],
   "source": [
    "min_interest_month = df['Interest Amount'].idxmin().strftime('%B')\n",
    "min_interest_month"
   ]
  },
  {
   "cell_type": "code",
   "execution_count": 59,
   "id": "c20e6012",
   "metadata": {},
   "outputs": [
    {
     "data": {
      "text/plain": [
       "200000.0"
      ]
     },
     "execution_count": 59,
     "metadata": {},
     "output_type": "execute_result"
    }
   ],
   "source": [
    "df[\"Principal Amount\"].sum()"
   ]
  },
  {
   "cell_type": "code",
   "execution_count": 60,
   "id": "634e45a2",
   "metadata": {},
   "outputs": [
    {
     "data": {
      "text/plain": [
       "Index(['Principal Amount', 'Interest Amount', 'Total', 'Statement Date'], dtype='object')"
      ]
     },
     "execution_count": 60,
     "metadata": {},
     "output_type": "execute_result"
    }
   ],
   "source": [
    "df.columns"
   ]
  },
  {
   "cell_type": "code",
   "execution_count": 61,
   "id": "516e5693",
   "metadata": {
    "scrolled": true
   },
   "outputs": [
    {
     "data": {
      "text/plain": [
       "67724.57"
      ]
     },
     "execution_count": 61,
     "metadata": {},
     "output_type": "execute_result"
    }
   ],
   "source": [
    "df['Interest Amount'].sum()"
   ]
  },
  {
   "cell_type": "code",
   "execution_count": 62,
   "id": "f904b988",
   "metadata": {},
   "outputs": [
    {
     "data": {
      "text/plain": [
       "122.16"
      ]
     },
     "execution_count": 62,
     "metadata": {},
     "output_type": "execute_result"
    }
   ],
   "source": [
    "df['Interest Amount'].min()"
   ]
  },
  {
   "cell_type": "code",
   "execution_count": 63,
   "id": "08c87dfa",
   "metadata": {},
   "outputs": [
    {
     "data": {
      "text/plain": [
       "3340.0"
      ]
     },
     "execution_count": 63,
     "metadata": {},
     "output_type": "execute_result"
    }
   ],
   "source": [
    "df['Interest Amount'].max()"
   ]
  },
  {
   "cell_type": "code",
   "execution_count": null,
   "id": "d2e97b30",
   "metadata": {},
   "outputs": [],
   "source": []
  },
  {
   "cell_type": "code",
   "execution_count": 52,
   "id": "0a68ab68",
   "metadata": {},
   "outputs": [
    {
     "data": {
      "text/html": [
       "<div>\n",
       "<style scoped>\n",
       "    .dataframe tbody tr th:only-of-type {\n",
       "        vertical-align: middle;\n",
       "    }\n",
       "\n",
       "    .dataframe tbody tr th {\n",
       "        vertical-align: top;\n",
       "    }\n",
       "\n",
       "    .dataframe thead th {\n",
       "        text-align: right;\n",
       "    }\n",
       "</style>\n",
       "<table border=\"1\" class=\"dataframe\">\n",
       "  <thead>\n",
       "    <tr style=\"text-align: right;\">\n",
       "      <th></th>\n",
       "      <th>Principal Amount</th>\n",
       "      <th>Interest Amount</th>\n",
       "      <th>Total</th>\n",
       "    </tr>\n",
       "  </thead>\n",
       "  <tbody>\n",
       "    <tr>\n",
       "      <th>Principal Amount</th>\n",
       "      <td>1.000000</td>\n",
       "      <td>-1.000000</td>\n",
       "      <td>0.312017</td>\n",
       "    </tr>\n",
       "    <tr>\n",
       "      <th>Interest Amount</th>\n",
       "      <td>-1.000000</td>\n",
       "      <td>1.000000</td>\n",
       "      <td>-0.311997</td>\n",
       "    </tr>\n",
       "    <tr>\n",
       "      <th>Total</th>\n",
       "      <td>0.312017</td>\n",
       "      <td>-0.311997</td>\n",
       "      <td>1.000000</td>\n",
       "    </tr>\n",
       "  </tbody>\n",
       "</table>\n",
       "</div>"
      ],
      "text/plain": [
       "                  Principal Amount  Interest Amount     Total\n",
       "Principal Amount          1.000000        -1.000000  0.312017\n",
       "Interest Amount          -1.000000         1.000000 -0.311997\n",
       "Total                     0.312017        -0.311997  1.000000"
      ]
     },
     "execution_count": 52,
     "metadata": {},
     "output_type": "execute_result"
    }
   ],
   "source": [
    "df.corr()"
   ]
  },
  {
   "cell_type": "code",
   "execution_count": 53,
   "id": "077ce05d",
   "metadata": {},
   "outputs": [
    {
     "data": {
      "text/html": [
       "<div>\n",
       "<style scoped>\n",
       "    .dataframe tbody tr th:only-of-type {\n",
       "        vertical-align: middle;\n",
       "    }\n",
       "\n",
       "    .dataframe tbody tr th {\n",
       "        vertical-align: top;\n",
       "    }\n",
       "\n",
       "    .dataframe thead th {\n",
       "        text-align: right;\n",
       "    }\n",
       "</style>\n",
       "<table border=\"1\" class=\"dataframe\">\n",
       "  <thead>\n",
       "    <tr style=\"text-align: right;\">\n",
       "      <th></th>\n",
       "      <th>Principal Amount</th>\n",
       "      <th>Interest Amount</th>\n",
       "      <th>Total</th>\n",
       "    </tr>\n",
       "  </thead>\n",
       "  <tbody>\n",
       "    <tr>\n",
       "      <th>Total</th>\n",
       "      <td>0.312017</td>\n",
       "      <td>-0.311997</td>\n",
       "      <td>1.0</td>\n",
       "    </tr>\n",
       "  </tbody>\n",
       "</table>\n",
       "</div>"
      ],
      "text/plain": [
       "       Principal Amount  Interest Amount  Total\n",
       "Total          0.312017        -0.311997    1.0"
      ]
     },
     "execution_count": 53,
     "metadata": {},
     "output_type": "execute_result"
    }
   ],
   "source": [
    "df.corr().tail(1)"
   ]
  },
  {
   "cell_type": "code",
   "execution_count": 54,
   "id": "cfb0a4e1",
   "metadata": {},
   "outputs": [
    {
     "data": {
      "text/html": [
       "<div>\n",
       "<style scoped>\n",
       "    .dataframe tbody tr th:only-of-type {\n",
       "        vertical-align: middle;\n",
       "    }\n",
       "\n",
       "    .dataframe tbody tr th {\n",
       "        vertical-align: top;\n",
       "    }\n",
       "\n",
       "    .dataframe thead th {\n",
       "        text-align: right;\n",
       "    }\n",
       "</style>\n",
       "<table border=\"1\" class=\"dataframe\">\n",
       "  <thead>\n",
       "    <tr style=\"text-align: right;\">\n",
       "      <th></th>\n",
       "      <th>Principal Amount</th>\n",
       "      <th>Interest Amount</th>\n",
       "      <th>Total</th>\n",
       "    </tr>\n",
       "  </thead>\n",
       "  <tbody>\n",
       "    <tr>\n",
       "      <th>count</th>\n",
       "      <td>36.000000</td>\n",
       "      <td>36.000000</td>\n",
       "      <td>36.000000</td>\n",
       "    </tr>\n",
       "    <tr>\n",
       "      <th>mean</th>\n",
       "      <td>5555.555556</td>\n",
       "      <td>1881.238056</td>\n",
       "      <td>7436.793611</td>\n",
       "    </tr>\n",
       "    <tr>\n",
       "      <th>std</th>\n",
       "      <td>966.542943</td>\n",
       "      <td>966.536183</td>\n",
       "      <td>0.021667</td>\n",
       "    </tr>\n",
       "    <tr>\n",
       "      <th>min</th>\n",
       "      <td>4096.790000</td>\n",
       "      <td>122.160000</td>\n",
       "      <td>7436.790000</td>\n",
       "    </tr>\n",
       "    <tr>\n",
       "      <th>25%</th>\n",
       "      <td>4735.782500</td>\n",
       "      <td>1108.790000</td>\n",
       "      <td>7436.790000</td>\n",
       "    </tr>\n",
       "    <tr>\n",
       "      <th>50%</th>\n",
       "      <td>5474.355000</td>\n",
       "      <td>1962.435000</td>\n",
       "      <td>7436.790000</td>\n",
       "    </tr>\n",
       "    <tr>\n",
       "      <th>75%</th>\n",
       "      <td>6328.000000</td>\n",
       "      <td>2701.007500</td>\n",
       "      <td>7436.790000</td>\n",
       "    </tr>\n",
       "    <tr>\n",
       "      <th>max</th>\n",
       "      <td>7314.760000</td>\n",
       "      <td>3340.000000</td>\n",
       "      <td>7436.920000</td>\n",
       "    </tr>\n",
       "  </tbody>\n",
       "</table>\n",
       "</div>"
      ],
      "text/plain": [
       "       Principal Amount  Interest Amount        Total\n",
       "count         36.000000        36.000000    36.000000\n",
       "mean        5555.555556      1881.238056  7436.793611\n",
       "std          966.542943       966.536183     0.021667\n",
       "min         4096.790000       122.160000  7436.790000\n",
       "25%         4735.782500      1108.790000  7436.790000\n",
       "50%         5474.355000      1962.435000  7436.790000\n",
       "75%         6328.000000      2701.007500  7436.790000\n",
       "max         7314.760000      3340.000000  7436.920000"
      ]
     },
     "execution_count": 54,
     "metadata": {},
     "output_type": "execute_result"
    }
   ],
   "source": [
    "df.describe()"
   ]
  },
  {
   "cell_type": "code",
   "execution_count": 56,
   "id": "9dedc638",
   "metadata": {},
   "outputs": [
    {
     "data": {
      "text/plain": [
       "<Axes: xlabel='Principal Amount', ylabel='Density'>"
      ]
     },
     "execution_count": 56,
     "metadata": {},
     "output_type": "execute_result"
    },
    {
     "data": {
      "image/png": "[encoded data removed]",
      "text/plain": [
       "<Figure size 640x480 with 1 Axes>"
      ]
     },
     "metadata": {},
     "output_type": "display_data"
    }
   ],
   "source": [
    " sns.kdeplot(df[\"Principal Amount\"])"
   ]
  },
  {
   "cell_type": "code",
   "execution_count": 57,
   "id": "a48db9fc",
   "metadata": {},
   "outputs": [
    {
     "data": {
      "text/plain": [
       "<Axes: xlabel='Interest Amount', ylabel='Density'>"
      ]
     },
     "execution_count": 57,
     "metadata": {},
     "output_type": "execute_result"
    },
    {
     "data": {
      "image/png": "[encoded data removed]",
      "text/plain": [
       "<Figure size 640x480 with 1 Axes>"
      ]
     },
     "metadata": {},
     "output_type": "display_data"
    }
   ],
   "source": [
    " sns.kdeplot(df[\"Interest Amount\"])"
   ]
  },
  {
   "cell_type": "code",
   "execution_count": null,
   "id": "841f1294",
   "metadata": {},
   "outputs": [],
   "source": []
  }
 ],
 "metadata": {
  "kernelspec": {
   "display_name": "Python 3 (ipykernel)",
   "language": "python",
   "name": "python3"
  },
  "language_info": {
   "codemirror_mode": {
    "name": "ipython",
    "version": 3
   },
   "file_extension": ".py",
   "mimetype": "text/x-python",
   "name": "python",
   "nbconvert_exporter": "python",
   "pygments_lexer": "ipython3",
   "version": "3.10.9"
  }
 },
 "nbformat": 4,
 "nbformat_minor": 5
}
